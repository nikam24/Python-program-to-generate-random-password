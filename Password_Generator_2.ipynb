{
  "nbformat": 4,
  "nbformat_minor": 0,
  "metadata": {
    "colab": {
      "provenance": [],
      "authorship_tag": "ABX9TyOxHNVpyMSwv4Ghw7LPBh19",
      "include_colab_link": true
    },
    "kernelspec": {
      "name": "python3",
      "display_name": "Python 3"
    },
    "language_info": {
      "name": "python"
    }
  },
  "cells": [
    {
      "cell_type": "markdown",
      "metadata": {
        "id": "view-in-github",
        "colab_type": "text"
      },
      "source": [
        "<a href=\"https://colab.research.google.com/github/nikam24/Python-program-to-generate-random-password/blob/main/Password_Generator_2.ipynb\" target=\"_parent\"><img src=\"https://colab.research.google.com/assets/colab-badge.svg\" alt=\"Open In Colab\"/></a>"
      ]
    },
    {
      "cell_type": "markdown",
      "source": [
        "# **Python program to generate random password without any in-built function**"
      ],
      "metadata": {
        "id": "FhU6ByxbdaSS"
      }
    },
    {
      "cell_type": "code",
      "source": [
        "import time\n",
        "\n",
        "ts = time.time()\n",
        "\n",
        "print(ts)\n",
        "for i in range(1000000000):\n",
        "  continue\n",
        "\n",
        "ts = time.time()\n",
        "\n",
        "print(ts)"
      ],
      "metadata": {
        "colab": {
          "base_uri": "https://localhost:8080/"
        },
        "id": "EhnQsVbPdmQL",
        "outputId": "d1222be8-689d-4c4c-9ce2-8b1c7b5733e6"
      },
      "execution_count": null,
      "outputs": [
        {
          "output_type": "stream",
          "name": "stdout",
          "text": [
            "1673937987.6987574\n",
            "1673938016.4473011\n"
          ]
        }
      ]
    },
    {
      "cell_type": "code",
      "source": [
        "import numpy as np\n",
        "import datetime\n",
        "\n",
        "def main():\n",
        "  arr = [0,0,0,0,0,0,0,0]\n",
        "\n",
        "  digits = [0,1,2,3,4,5,6,7,8,9]\n",
        "\n",
        "  alphabets = ['a','b','c','d','e','f','g','h','i','j','k','l','m','n','o','p','q','r','s','t','u','v','w','x','y','z',\n",
        "              'A','B','C','D','E','F','G','H','I','J','K','L','M','N','O','P','Q','R','S','T','U','V','W','X','Y','Z']\n",
        "\n",
        "  possiblilites = [\"digit\",\"alphabet\"]\n",
        "\n",
        "  print(\"Original password array : \")\n",
        "  print(arr)\n",
        "  print(\"\")\n",
        "\n",
        "  for i in range(8):\n",
        "    nowTake = mychoice(possiblilites)\n",
        "\n",
        "    if nowTake == \"digit\":\n",
        "      arr[i] = mychoice(digits)\n",
        "\n",
        "    if nowTake == \"alphabet\":\n",
        "      arr[i] = mychoice(alphabets)\n",
        "\n",
        "  mypass = \"\".join([str(item) for item in arr])\n",
        "\n",
        "  print(\"Generated password array : \")\n",
        "  print(arr)\n",
        "  print(\"\")\n",
        "\n",
        "  print(\"Password generated : \" + mypass)\n",
        "\n",
        "def mychoice(mylist):\n",
        "  curr_time = datetime.datetime.now()\n",
        "  curr_seconds = curr_time.microsecond\n",
        "\n",
        "  # print(curr_seconds)\n",
        "  ts = int(curr_seconds%10)\n",
        "  # print(curr_seconds)\n",
        "  return mylist[curr_seconds%(len(mylist))]\n",
        "\n",
        "if __name__ == \"__main__\":\n",
        "  main()"
      ],
      "metadata": {
        "colab": {
          "base_uri": "https://localhost:8080/"
        },
        "id": "B4SA0MUdel_W",
        "outputId": "40b2c976-99a8-4a85-fad0-cd9e7ec30b2a"
      },
      "execution_count": null,
      "outputs": [
        {
          "output_type": "stream",
          "name": "stdout",
          "text": [
            "Original password array : \n",
            "[0, 0, 0, 0, 0, 0, 0, 0]\n",
            "\n",
            "Generated password array : \n",
            "['E', 'H', 0, 3, 'R', 9, 'W', 5]\n",
            "\n",
            "Password generated : EH03R9W5\n"
          ]
        }
      ]
    }
  ]
}