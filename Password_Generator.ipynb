{
  "nbformat": 4,
  "nbformat_minor": 0,
  "metadata": {
    "colab": {
      "provenance": [],
      "authorship_tag": "ABX9TyNM3u6fWY+tLu7g0Rd/rr3s",
      "include_colab_link": true
    },
    "kernelspec": {
      "name": "python3",
      "display_name": "Python 3"
    },
    "language_info": {
      "name": "python"
    }
  },
  "cells": [
    {
      "cell_type": "markdown",
      "metadata": {
        "id": "view-in-github",
        "colab_type": "text"
      },
      "source": [
        "<a href=\"https://colab.research.google.com/github/nikam24/Python-program-to-generate-random-password/blob/main/Password_Generator.ipynb\" target=\"_parent\"><img src=\"https://colab.research.google.com/assets/colab-badge.svg\" alt=\"Open In Colab\"/></a>"
      ]
    },
    {
      "cell_type": "code",
      "execution_count": null,
      "metadata": {
        "id": "ymuKa9QVQ2LG"
      },
      "outputs": [],
      "source": [
        "# Check the versions of libraries\n",
        " \n",
        "# Python version\n",
        "import sys\n",
        "print('Python: {}'.format(sys.version))"
      ]
    },
    {
      "cell_type": "markdown",
      "source": [
        "# **Python program to generate a random number.**"
      ],
      "metadata": {
        "id": "t0AUAym0RfkR"
      }
    },
    {
      "cell_type": "code",
      "source": [
        "import random\n",
        "print(random.randint(0,9))"
      ],
      "metadata": {
        "id": "3VTx1umiSLkQ",
        "colab": {
          "base_uri": "https://localhost:8080/"
        },
        "outputId": "6ce78a63-d4ed-4c05-a115-a6f064b33a73"
      },
      "execution_count": 4,
      "outputs": [
        {
          "output_type": "stream",
          "name": "stdout",
          "text": [
            "1\n"
          ]
        }
      ]
    },
    {
      "cell_type": "markdown",
      "source": [
        "# **Python program to generate a random password**"
      ],
      "metadata": {
        "id": "fwJ15rUhTejy"
      }
    },
    {
      "cell_type": "code",
      "source": [
        "import random\n",
        "import numpy as np\n",
        "\n",
        "arr = [0,0,0,0,0,0,0,0]\n",
        "\n",
        "digits = [0,1,2,3,4,5,6,7,8,9]\n",
        "\n",
        "alphabets = ['a','b','c','d','e','f','g','h','i','j','k','l','m','n','o','p','q','r','s','t','u','v','w','x','y','z',\n",
        "             'A','B','C','D','E','F','G','H','I','J','K','L','M','N','O','P','Q','R','S','T','U','V','W','X','Y','Z']\n",
        "\n",
        "possiblilites = [\"digit\",\"alphabet\"]\n",
        "\n",
        "print(arr)\n",
        "\n",
        "for i in range(8):\n",
        "  nowTake = random.choice(possiblilites)\n",
        "\n",
        "  if nowTake == \"digit\":\n",
        "    arr[i] = random.choice(digits)\n",
        "\n",
        "  if nowTake == \"alphabet\":\n",
        "    arr[i] = random.choice(alphabets)\n",
        "\n",
        "mypass = \"\".join([str(item) for item in arr])\n",
        "\n",
        "print(\"Password generated : \" + mypass)"
      ],
      "metadata": {
        "colab": {
          "base_uri": "https://localhost:8080/"
        },
        "id": "azE5M396Tn6A",
        "outputId": "af214826-4203-480a-f209-d3407d68b33e"
      },
      "execution_count": 24,
      "outputs": [
        {
          "output_type": "stream",
          "name": "stdout",
          "text": [
            "[0, 0, 0, 0, 0, 0, 0, 0]\n",
            "Password generated : 4zA2P78T\n"
          ]
        }
      ]
    }
  ]
}